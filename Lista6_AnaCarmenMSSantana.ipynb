{
  "nbformat": 4,
  "nbformat_minor": 0,
  "metadata": {
    "colab": {
      "name": "Lista6_AnaCarmenMSSantana.ipynb",
      "provenance": [],
      "authorship_tag": "ABX9TyPpPrO+3TyQCfT8kjWGUbv0",
      "include_colab_link": true
    },
    "kernelspec": {
      "name": "python3",
      "display_name": "Python 3"
    },
    "language_info": {
      "name": "python"
    }
  },
  "cells": [
    {
      "cell_type": "markdown",
      "metadata": {
        "id": "view-in-github",
        "colab_type": "text"
      },
      "source": [
        "<a href=\"https://colab.research.google.com/github/acmhp/MQTT_Temp_Umidade/blob/master/Lista6_AnaCarmenMSSantana.ipynb\" target=\"_parent\"><img src=\"https://colab.research.google.com/assets/colab-badge.svg\" alt=\"Open In Colab\"/></a>"
      ]
    },
    {
      "cell_type": "code",
      "metadata": {
        "colab": {
          "base_uri": "https://localhost:8080/",
          "height": 572
        },
        "id": "AN71xPJevu8t",
        "outputId": "7868a3ca-e407-49ec-e6a0-755a278eb276"
      },
      "source": [
        "#Questão 10\n",
        "\n",
        "from scipy.stats import binom\n",
        "import numpy as np\n",
        "import matplotlib.pyplot as plt\n",
        "import seaborn as sns\n",
        "from math import factorial\n",
        "import math\n",
        "from scipy import stats\n",
        "\n",
        "k=np.linspace(0,53680,53681)\n",
        "p1 = 0.513\n",
        "n1 = 8\n",
        "\n",
        "n1_k = []\n",
        "k1 = []\n",
        "f_kn1p1 = []\n",
        "\n",
        "i=0\n",
        "while(n1 >= k[i]):\n",
        "    k1.append(k[i])\n",
        "    n1_k.append(factorial(n1)/(factorial(k[i])*factorial(n1-k[i])))\n",
        "    f_kn1p1.append(n1_k[i]*(p1**k[i])*((1-p1)**(n1-k[i])))\n",
        "    i = i+1\n",
        "    \n",
        "print(n1_k)\n",
        "print(k1)\n",
        "print(f_kn1p1)\n",
        "\n",
        "i=0\n",
        "while(n1 >= i):\n",
        "    EX = 53680 * f_kn1p1[i]\n",
        "    print(EX)\n",
        "    i = i+1\n",
        "\n",
        "k = 8\n",
        "size = 53680\n",
        "s = np.random.chisquare(k,size)\n",
        "\n",
        "\n",
        "bins=10\n",
        "plt.hist(s, bins, density=True)\n",
        "bin = np.linspace(0,bins,bins+1)\n",
        "y = ((bin**(k/2-1.0))*np.exp(-bin/2.0))/((2.0**(k/2.0))*math.gamma(k/2))\n",
        "print(y)\n",
        "plt.plot(bin,y,color='red')\n",
        "plt.tight_layout()\n",
        "\n",
        "p_valor = stats.chi2.cdf(y[0],1)\n",
        "print(p_valor)"
      ],
      "execution_count": 35,
      "outputs": [
        {
          "output_type": "stream",
          "text": [
            "[1.0, 8.0, 28.0, 56.0, 70.0, 56.0, 28.0, 8.0, 1.0]\n",
            "[0.0, 1.0, 2.0, 3.0, 4.0, 5.0, 6.0, 7.0, 8.0]\n",
            "[0.003163965138861484, 0.02666306556445078, 0.09830294501226156, 0.20710230304431287, 0.2726988743884305, 0.22980619722589704, 0.12103755562308541, 0.03642843416523486, 0.004796659837465474]\n",
            "169.84164865408445\n",
            "1431.273359499718\n",
            "5276.9020882582\n",
            "11117.251627418715\n",
            "14638.475577170948\n",
            "12335.996667086154\n",
            "6497.295985847225\n",
            "1955.4783459898074\n",
            "257.48470007514663\n",
            "[0.         0.00631803 0.03065662 0.06275536 0.09022352 0.10688151\n",
            " 0.1120209  0.10789273 0.09768341 0.08435894 0.07018695]\n",
            "0.0\n"
          ],
          "name": "stdout"
        },
        {
          "output_type": "display_data",
          "data": {
            "image/png": "[encoded data removed]",
            "text/plain": [
              "<Figure size 432x288 with 1 Axes>"
            ]
          },
          "metadata": {
            "tags": [],
            "needs_background": "light"
          }
        }
      ]
    },
    {
      "cell_type": "code",
      "metadata": {
        "colab": {
          "base_uri": "https://localhost:8080/",
          "height": 71
        },
        "id": "G3csvxNfFyAC",
        "outputId": "ff9eb092-c037-44d8-cd54-1b5c90be288a"
      },
      "source": [
        "#Exercico 19\n",
        "\n",
        "import code\n",
        "import theano.tensor as tt\n",
        "import matplotlib.pyplot as plt\n",
        "import numpy as np\n",
        "import pymc3 as pm\n",
        "\n",
        "data = np.array( [1, 2, 27, 802, 2087, 18901, 14343, 21531] )\n",
        "\n",
        "N = len( data )\n",
        "\n",
        "print( \"Number of data points: %d\" % N )\n",
        "def build_model():\n",
        "    with pm.Model() as model:\n",
        "        # unsure about the prior...\n",
        "        #s = pm.Normal( 's', mu=0.0, sd=100 )\n",
        "        #s = pm.HalfNormal( 's', sd=10 )\n",
        "\n",
        "      s = pm.Gamma('s', alpha=1, beta=8)\n",
        "\n",
        "\n",
        "      def logp( f ):\n",
        "        r = tt.arange( 1, N+1 )\n",
        "        return -s * tt.sum( f * tt.log(r) ) - tt.sum( f ) * tt.log( tt.sum(tt.power(1.0/r,s)) )\n",
        "\n",
        "      pm.DensityDist( 'obs', logp=logp, observed={'f': data} )\n",
        "\n",
        "\n",
        "      return model\n",
        "\n",
        "def run( n_samples=10000 ):\n",
        "    model = build_model()\n",
        "    with model:\n",
        "        start = pm.find_MAP()\n",
        "\n",
        "if __name__ == '__main__':\n",
        "    run()"
      ],
      "execution_count": 38,
      "outputs": [
        {
          "output_type": "stream",
          "text": [
            "Number of data points: 8\n"
          ],
          "name": "stdout"
        },
        {
          "output_type": "display_data",
          "data": {
            "text/html": [
              "\n",
              "    <div>\n",
              "        <style>\n",
              "            /* Turns off some styling */\n",
              "            progress {\n",
              "                /* gets rid of default border in Firefox and Opera. */\n",
              "                border: none;\n",
              "                /* Needs to be in here for Safari polyfill so background images work as expected. */\n",
              "                background-size: auto;\n",
              "            }\n",
              "            .progress-bar-interrupted, .progress-bar-interrupted::-webkit-progress-bar {\n",
              "                background: #F44336;\n",
              "            }\n",
              "        </style>\n",
              "      <progress value='25' class='' max='25' style='width:300px; height:20px; vertical-align: middle;'></progress>\n",
              "      100.00% [25/25 00:00<00:00 logp = -1.1997e+05, ||grad|| = 0.0035241]\n",
              "    </div>\n",
              "    "
            ],
            "text/plain": [
              "<IPython.core.display.HTML object>"
            ]
          },
          "metadata": {
            "tags": []
          }
        },
        {
          "output_type": "stream",
          "text": [
            "\n"
          ],
          "name": "stdout"
        }
      ]
    }
  ]
}